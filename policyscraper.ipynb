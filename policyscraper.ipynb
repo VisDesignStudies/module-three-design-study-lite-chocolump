{
 "cells": [
  {
   "cell_type": "code",
   "execution_count": 84,
   "id": "8988d306",
   "metadata": {},
   "outputs": [],
   "source": [
    "import re\n",
    "import csv\n",
    "\n",
    "with open('text.txt') as f:\n",
    "    contents = f.read()\n",
    "    \n",
    "    topic = re.findall(r'Topics: </b>\\n(.*?)[,\\n]', contents)\n",
    "    test = re.findall(r'\\W[>\\s](\\w\\w)\\s\\w{1,3}\\s\\d.*<br>\\n.*?\\s\\s(\\d\\d\\d\\d)<br>', contents)\n",
    "    data = []\n",
    "    for i in range(len(test)):\n",
    "        data.append([test[i][0], test[i][1], topic[i].lstrip()])\n",
    "        \n",
    "with open('policydata.csv', 'w', encoding='UTF8', newline='') as g:\n",
    "    writer = csv.writer(g)\n",
    "\n",
    "    # write multiple rows\n",
    "    writer.writerows(data)"
   ]
  }
 ],
 "metadata": {
  "kernelspec": {
   "display_name": "Python 3",
   "language": "python",
   "name": "python3"
  },
  "language_info": {
   "codemirror_mode": {
    "name": "ipython",
    "version": 3
   },
   "file_extension": ".py",
   "mimetype": "text/x-python",
   "name": "python",
   "nbconvert_exporter": "python",
   "pygments_lexer": "ipython3",
   "version": "3.8.8"
  }
 },
 "nbformat": 4,
 "nbformat_minor": 5
}
